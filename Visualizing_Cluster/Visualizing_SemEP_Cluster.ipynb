{
 "cells": [
  {
   "cell_type": "markdown",
   "id": "dc3b599c",
   "metadata": {},
   "source": [
    "# Visualizing clusters of relationships between Countries-Indicators."
   ]
  },
  {
   "cell_type": "code",
   "execution_count": 1,
   "id": "f0a64160",
   "metadata": {},
   "outputs": [],
   "source": [
    "import pandas as pd\n",
    "import json\n",
    "\n",
    "from ipycytoscape import *\n",
    "import ipywidgets as widgets\n",
    "from ipywidgets import GridspecLayout\n",
    "from IPython.display import clear_output\n",
    "import os"
   ]
  },
  {
   "cell_type": "markdown",
   "id": "d7f43dde",
   "metadata": {},
   "source": [
    "### Select the Country to study"
   ]
  },
  {
   "cell_type": "code",
   "execution_count": 2,
   "id": "67a7f289",
   "metadata": {
    "scrolled": true
   },
   "outputs": [],
   "source": [
    "path = '../PatternDetection/clusteringMeasures/'\n",
    "model, th, cluster = 'ERMLP/', 'SemEP_40/', 'clusters/'\n",
    "path_model = path+model\n",
    "path_model_th = path+model+th\n",
    "path_model_th_cls = path+model+th+cluster\n",
    "prediction = pd.read_csv(path_model_th + 'prediction.txt', delimiter=\"\\t\", header=None)\n",
    "prediction.columns = ['col1', 'col2', 'category', 'weight']"
   ]
  },
  {
   "cell_type": "code",
   "execution_count": 3,
   "id": "220e45e0",
   "metadata": {},
   "outputs": [],
   "source": [
    "df_country = pd.read_csv('../Extracting_Data_Skynet/dataset/country_label.csv')\n",
    "country_list = list(df_country.label_country.unique())\n",
    "dict_country = dict(zip(df_country.label_country, df_country.country))"
   ]
  },
  {
   "cell_type": "code",
   "execution_count": 4,
   "id": "23f575b4",
   "metadata": {},
   "outputs": [
    {
     "data": {
      "application/vnd.jupyter.widget-view+json": {
       "model_id": "5642ac7749414e268c2a1b8d62192673",
       "version_major": 2,
       "version_minor": 0
      },
      "text/plain": [
       "GridspecLayout(children=(Combobox(value='', description='Select Country:', ensure_option=True, layout=Layout(g…"
      ]
     },
     "metadata": {},
     "output_type": "display_data"
    }
   ],
   "source": [
    "country_label1 = widgets.Combobox(\n",
    "    # value='John',\n",
    "    placeholder='Write a country name',\n",
    "    options=country_list,\n",
    "    description='Select Country:',\n",
    "    ensure_option=True,\n",
    "    disabled=False\n",
    ")\n",
    "\n",
    "\n",
    "button_cui1 = widgets.Button(description=\"Add Country\")\n",
    "\n",
    "def create_expanded_button(description, button_style):\n",
    "    return widgets.Button(description=description, button_style=button_style,\n",
    "                          layout=widgets.Layout(height='auto', width='auto'))\n",
    "\n",
    "grid = GridspecLayout(1, 2, height='60px')\n",
    "grid[0, 0] = country_label1 # label_cui1\n",
    "grid[0, 1] = button_cui1\n",
    "\n",
    "display(grid)"
   ]
  },
  {
   "cell_type": "code",
   "execution_count": 5,
   "id": "a6c53508",
   "metadata": {},
   "outputs": [],
   "source": [
    "def select_cluster(country):\n",
    "    entries = os.listdir(path_model_th_cls)\n",
    "    country_entries = []\n",
    "    for name in entries:\n",
    "        cls = pd.read_csv(path_model_th_cls + name, delimiter=\"\\t\", header=None)\n",
    "        cls.columns = ['Country', 'Indicator', 'category', 'Cost']\n",
    "        if country in cls.Country.to_list():\n",
    "            country_entries.append(name)\n",
    "    return country_entries\n",
    "# entries = select_cluster('country:DEU')"
   ]
  },
  {
   "cell_type": "markdown",
   "id": "15181fef",
   "metadata": {},
   "source": [
    "### Select the Cluster to be visualized"
   ]
  },
  {
   "cell_type": "code",
   "execution_count": 6,
   "id": "ddc96ca8",
   "metadata": {},
   "outputs": [
    {
     "data": {
      "application/vnd.jupyter.widget-view+json": {
       "model_id": "1881afa0c80c43ada251b917ae6b78c8",
       "version_major": 2,
       "version_minor": 0
      },
      "text/plain": [
       "Dropdown(description='Cluster:', options={}, value=None)"
      ]
     },
     "metadata": {},
     "output_type": "display_data"
    }
   ],
   "source": [
    "dropdown_cluster = widgets.Dropdown(options = {}, description='Cluster:')\n",
    "# dropdown_cluster.options=entries\n",
    "display(dropdown_cluster)"
   ]
  },
  {
   "cell_type": "code",
   "execution_count": 7,
   "id": "fed6f306",
   "metadata": {},
   "outputs": [],
   "source": [
    "def button_cui1_clicked(parm):\n",
    "    dropdown_cluster.options = select_cluster(dict_country[grid[0, 0].value])\n",
    "\n",
    "grid[0, 1].on_click(button_cui1_clicked)"
   ]
  },
  {
   "cell_type": "code",
   "execution_count": 8,
   "id": "c055fc86",
   "metadata": {},
   "outputs": [],
   "source": [
    "def adding_prediction(name, cls):\n",
    "    c = name.split('-')[1][:-4]\n",
    "    ix = prediction.index[prediction['col2'] == c].tolist()\n",
    "    if len(ix)==0:\n",
    "        return cls\n",
    "    ix = ix[0]\n",
    "    for ind in prediction.index[ix+1:]:\n",
    "        if 'Cluster' == prediction['col1'][ind]:\n",
    "            break\n",
    "        cls.loc[len(cls.index)] = [prediction['col1'][ind], prediction['category'][ind], 'Predicted:'+prediction['col2'][ind],\n",
    "                                   prediction['weight'][ind]]\n",
    "    return cls\n",
    "\n",
    "def load_cluster(name):\n",
    "    cls = pd.read_csv(path_model_th_cls + name, delimiter=\"\\t\", header=None)\n",
    "    cls.columns = ['Country', 'Indicator', 'category', 'Cost']\n",
    "    cls = adding_prediction(name, cls)\n",
    "    return cls\n",
    "\n",
    "def create_json_to_cytoscape(name): # entity_type\n",
    "    rdf_graph = load_cluster(name)\n",
    "    graph_json = dict()\n",
    "    graph_json['nodes'] = []\n",
    "    graph_json['edges'] = []\n",
    "    drug_id = dict()\n",
    "    id_x = 0\n",
    "    for i in range(rdf_graph.shape[0]):\n",
    "        subj = rdf_graph.iloc[i]['Country']\n",
    "        obj = rdf_graph.iloc[i]['Indicator']\n",
    "        prop = rdf_graph.iloc[i]['category']\n",
    "        edge = dict()\n",
    "        edge['data'] = dict()\n",
    "\n",
    "        if subj in drug_id.keys():\n",
    "            edge['data']['id'] = id_x\n",
    "            edge['data']['source'] = drug_id[subj]\n",
    "            edge['data']['Label'] = prop\n",
    "            id_x += 1\n",
    "        else:\n",
    "            node = dict()\n",
    "            node['data'] = dict()\n",
    "            drug_id[subj] = id_x\n",
    "            node['data']['id'] = id_x\n",
    "            node['data']['name'] = subj\n",
    "            node['data']['type'] = 'Country' # entity_type[subj]\n",
    "            edge['data']['id'] = id_x + 1\n",
    "            edge['data']['source'] = id_x\n",
    "            edge['data']['Label'] = prop\n",
    "            graph_json['nodes'].append(node)\n",
    "            id_x += 2\n",
    "        if obj in drug_id.keys():\n",
    "            edge['data']['target'] = drug_id[obj]\n",
    "        else:\n",
    "            node = dict()\n",
    "            node['data'] = dict()\n",
    "            drug_id[obj] = id_x\n",
    "            node['data']['id'] = id_x\n",
    "            node['data']['name'] = obj\n",
    "            node['data']['type'] = 'Indicator' # entity_type[obj]\n",
    "            edge['data']['target'] = id_x\n",
    "            graph_json['nodes'].append(node)\n",
    "            id_x += 1\n",
    "#             if obj == k:\n",
    "#                 node['classes'] = 'red'  # Single class\n",
    "\n",
    "        graph_json['edges'].append(edge)\n",
    "\n",
    "    return graph_json\n",
    "\n",
    "def create_graph_cytoscape(name):\n",
    "    middle_vertex = create_json_to_cytoscape(name)\n",
    "    # load a style dictionary\n",
    "    with open(\"styles_prediction.json\") as fi:\n",
    "        s = json.load(fi)\n",
    "    # Create the cytoscape graph widget\n",
    "    cytoscapeobj = CytoscapeWidget()\n",
    "    cytoscapeobj.graph.add_graph_from_json(middle_vertex, directed=True, multiple_edges=True)  # , directed=True, input_data['elements']\n",
    "    \n",
    "    cytoscapeobj.set_style(s)\n",
    "    cytoscapeobj.set_layout(name='dagre', animate=True, nodeSpacing = 5)  # concentric,  breadthfirst, fcose, dagre, grid\n",
    "    return cytoscapeobj"
   ]
  },
  {
   "cell_type": "markdown",
   "id": "147f4e6d",
   "metadata": {},
   "source": [
    "### Visualize the cluster selected"
   ]
  },
  {
   "cell_type": "code",
   "execution_count": 9,
   "id": "ebe44a6b",
   "metadata": {},
   "outputs": [
    {
     "data": {
      "application/vnd.jupyter.widget-view+json": {
       "model_id": "87d0af493d9e4361b513696b49b34f91",
       "version_major": 2,
       "version_minor": 0
      },
      "text/plain": [
       "Button(description='Visualize', style=ButtonStyle())"
      ]
     },
     "metadata": {},
     "output_type": "display_data"
    },
    {
     "data": {
      "application/vnd.jupyter.widget-view+json": {
       "model_id": "a427767658ee4da9987ec8484c7d1676",
       "version_major": 2,
       "version_minor": 0
      },
      "text/plain": [
       "Output()"
      ]
     },
     "metadata": {},
     "output_type": "display_data"
    }
   ],
   "source": [
    "button = widgets.Button(description=\"Visualize\")\n",
    "output_2 = widgets.Output()\n",
    "display(button, output_2)\n",
    "\n",
    "def on_button_clicked(tfry):\n",
    "    with output_2:\n",
    "        clear_output(wait=True)\n",
    "#         graph_json = create_json_to_cytoscape(cls)\n",
    "        display(create_graph_cytoscape(dropdown_cluster.value))\n",
    "\n",
    "button.on_click(on_button_clicked)"
   ]
  },
  {
   "cell_type": "code",
   "execution_count": null,
   "id": "b9713b24",
   "metadata": {},
   "outputs": [],
   "source": [
    "# from google.colab import output\n",
    "# output.enable_custom_widget_manager()"
   ]
  },
  {
   "cell_type": "code",
   "execution_count": null,
   "id": "8f45b8f4",
   "metadata": {},
   "outputs": [],
   "source": []
  }
 ],
 "metadata": {
  "kernelspec": {
   "display_name": "Python 3 (ipykernel)",
   "language": "python",
   "name": "python3"
  },
  "language_info": {
   "codemirror_mode": {
    "name": "ipython",
    "version": 3
   },
   "file_extension": ".py",
   "mimetype": "text/x-python",
   "name": "python",
   "nbconvert_exporter": "python",
   "pygments_lexer": "ipython3",
   "version": "3.11.4"
  }
 },
 "nbformat": 4,
 "nbformat_minor": 5
}
