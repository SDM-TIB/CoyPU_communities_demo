{
 "cells": [
  {
   "cell_type": "markdown",
   "id": "d5fbcfba",
   "metadata": {},
   "source": [
    "# <center> **Demo: Communities over CoyPU Knowledge Graph**"
   ]
  },
  {
   "cell_type": "markdown",
   "id": "17be3d17",
   "metadata": {},
   "source": [
    "### Design patterns describing the Community Detection "
   ]
  },
  {
   "cell_type": "markdown",
   "id": "e2677837",
   "metadata": {},
   "source": [
    "<center><img src=\"../Images/Design_patterns.png\" alt=\"Design patterns describing CommunityDetection\"/>"
   ]
  },
  {
   "cell_type": "markdown",
   "id": "c09b5ba3",
   "metadata": {},
   "source": [
    "## **Use case 1**: Given a country and a specific year, identify its communities of relatedness between Countries-Indicators and predict relationships."
   ]
  },
  {
   "cell_type": "markdown",
   "id": "d7c354f3",
   "metadata": {},
   "source": [
    "<center><img src=\"../Images/CoyPU_KG_2022.png\" alt=\"CommunityDetection\"/>"
   ]
  },
  {
   "cell_type": "markdown",
   "id": "051be4d5",
   "metadata": {},
   "source": [
    "### CoyPU KG contains a huge amount of data about all the countries around the world, including each country's performance based on thousands of indicators. \n",
    "***\n",
    "###  **Aim**: Generate communities of Country-Indicator and predict relationships between them.\n",
    "***\n",
    "### Thus, we can identify countries with similar behavior concerning a group of indicators and predict new unknown links in the KG."
   ]
  },
  {
   "cell_type": "markdown",
   "id": "dc3b599c",
   "metadata": {},
   "source": [
    "# <center> Detecting clusters of relatedness between Countries-Indicators"
   ]
  },
  {
   "cell_type": "code",
   "execution_count": 1,
   "id": "f0a64160",
   "metadata": {},
   "outputs": [],
   "source": [
    "import pandas as pd\n",
    "import json\n",
    "\n",
    "from ipycytoscape import *\n",
    "import ipywidgets as widgets\n",
    "from ipywidgets import GridspecLayout\n",
    "from IPython.display import clear_output\n",
    "import os\n",
    "from Utility import *\n",
    "import seaborn as sns\n",
    "import matplotlib.pyplot as plt"
   ]
  },
  {
   "cell_type": "markdown",
   "id": "d7f43dde",
   "metadata": {},
   "source": [
    "### Select the Country to study"
   ]
  },
  {
   "cell_type": "code",
   "execution_count": 2,
   "id": "67a7f289",
   "metadata": {
    "scrolled": true
   },
   "outputs": [],
   "source": [
    "path = '../PatternDetection/__clusteringMeasures__/'\n",
    "model, th, cluster = 'ERMLP/', 'SemEP_40/', 'clusters/'\n",
    "path_model = path+model\n",
    "path_model_th = path+model+th\n",
    "path_model_th_cls = path+model+th+cluster\n",
    "prediction = pd.read_csv(path_model_th + 'prediction.txt', delimiter=\"\\t\", header=None)\n",
    "prediction.columns = ['col1', 'col2', 'category', 'weight']"
   ]
  },
  {
   "cell_type": "code",
   "execution_count": 3,
   "id": "220e45e0",
   "metadata": {},
   "outputs": [],
   "source": [
    "df_country = pd.read_csv('../Extracting_Data_Skynet/dataset/country_label.csv')\n",
    "country_list = list(df_country.label_country.unique())\n",
    "dict_country = dict(zip(df_country.label_country, df_country.country))\n",
    "replacement_map = dict(zip(df_country.country, df_country.label_country))"
   ]
  },
  {
   "cell_type": "code",
   "execution_count": 4,
   "id": "23f575b4",
   "metadata": {},
   "outputs": [
    {
     "data": {
      "application/vnd.jupyter.widget-view+json": {
       "model_id": "073f627be23d4896b18dc12c11f7dc37",
       "version_major": 2,
       "version_minor": 0
      },
      "text/plain": [
       "GridspecLayout(children=(Combobox(value='', description='Select Country:', ensure_option=True, layout=Layout(g…"
      ]
     },
     "metadata": {},
     "output_type": "display_data"
    }
   ],
   "source": [
    "country_label1 = widgets.Combobox(\n",
    "    # value='John',\n",
    "    placeholder='Write a country name',\n",
    "    options=country_list,\n",
    "    description='Select Country:',\n",
    "    ensure_option=True,\n",
    "    disabled=False\n",
    ")\n",
    "\n",
    "\n",
    "button_cui1 = widgets.Button(description=\"Add Country\")\n",
    "\n",
    "def create_expanded_button(description, button_style):\n",
    "    return widgets.Button(description=description, button_style=button_style,\n",
    "                          layout=widgets.Layout(height='auto', width='auto'))\n",
    "\n",
    "grid = GridspecLayout(1, 2, height='60px')\n",
    "grid[0, 0] = country_label1 # label_cui1\n",
    "grid[0, 1] = button_cui1\n",
    "\n",
    "display(grid)"
   ]
  },
  {
   "cell_type": "markdown",
   "id": "15181fef",
   "metadata": {},
   "source": [
    "### Select the Cluster to be visualized"
   ]
  },
  {
   "cell_type": "code",
   "execution_count": 5,
   "id": "ddc96ca8",
   "metadata": {},
   "outputs": [
    {
     "data": {
      "application/vnd.jupyter.widget-view+json": {
       "model_id": "370261b4bfc0448586c9611d6faddf2a",
       "version_major": 2,
       "version_minor": 0
      },
      "text/plain": [
       "Dropdown(description='Cluster:', options={}, value=None)"
      ]
     },
     "metadata": {},
     "output_type": "display_data"
    }
   ],
   "source": [
    "dropdown_cluster = widgets.Dropdown(options = {}, description='Cluster:')\n",
    "# dropdown_cluster.options=entries\n",
    "display(dropdown_cluster)"
   ]
  },
  {
   "cell_type": "code",
   "execution_count": 6,
   "id": "fed6f306",
   "metadata": {},
   "outputs": [],
   "source": [
    "def button_cui1_clicked(parm):\n",
    "    dropdown_cluster.options = select_cluster(dict_country[grid[0, 0].value], path_model_th_cls)\n",
    "\n",
    "grid[0, 1].on_click(button_cui1_clicked)"
   ]
  },
  {
   "cell_type": "markdown",
   "id": "147f4e6d",
   "metadata": {},
   "source": [
    "### Visualize the cluster selected"
   ]
  },
  {
   "cell_type": "code",
   "execution_count": 7,
   "id": "ebe44a6b",
   "metadata": {},
   "outputs": [
    {
     "data": {
      "application/vnd.jupyter.widget-view+json": {
       "model_id": "ae6c92f7a109482fa7b65e5b2c384538",
       "version_major": 2,
       "version_minor": 0
      },
      "text/plain": [
       "Button(description='Visualize', style=ButtonStyle())"
      ]
     },
     "metadata": {},
     "output_type": "display_data"
    },
    {
     "data": {
      "application/vnd.jupyter.widget-view+json": {
       "model_id": "b1ef728483ba4865b7442e223c5ab81f",
       "version_major": 2,
       "version_minor": 0
      },
      "text/plain": [
       "Output()"
      ]
     },
     "metadata": {},
     "output_type": "display_data"
    }
   ],
   "source": [
    "button = widgets.Button(description=\"Visualize\")\n",
    "output_2 = widgets.Output()\n",
    "display(button, output_2)\n",
    "\n",
    "def on_button_clicked(tfry):\n",
    "    with output_2:\n",
    "        clear_output(wait=True)\n",
    "#         graph_json = create_json_to_cytoscape(cls)\n",
    "        display(create_graph_cytoscape(path_model_th_cls, dropdown_cluster.value, prediction, replacement_map))\n",
    "\n",
    "button.on_click(on_button_clicked)"
   ]
  },
  {
   "cell_type": "markdown",
   "id": "14321e77",
   "metadata": {},
   "source": [
    "## **Use case 2**: Given a country and a specific year, analyze its performance based on a set of economic indicators."
   ]
  },
  {
   "cell_type": "code",
   "execution_count": 8,
   "id": "a800fdb0",
   "metadata": {},
   "outputs": [],
   "source": [
    "path_c2 = '../PatternDetection/clusteringMeasures/'\n",
    "model_c2, th_c2, cluster_c2 = 'TransH/', 'SemEP_32/', 'clusters/'\n",
    "path_model_c2 = path_c2+model_c2\n",
    "path_model_th_c2 = path_c2+model_c2+th_c2\n",
    "path_model_th_cls_c2 = path_c2+model_c2+th_c2+cluster_c2\n",
    "indicator_val = pd.read_csv('../Extracting_Data_Skynet/dataset/indicator_value.csv')"
   ]
  },
  {
   "cell_type": "code",
   "execution_count": 9,
   "id": "b9713b24",
   "metadata": {},
   "outputs": [
    {
     "data": {
      "application/vnd.jupyter.widget-view+json": {
       "model_id": "71aa361cb33244de9c1501ffe9845552",
       "version_major": 2,
       "version_minor": 0
      },
      "text/plain": [
       "GridspecLayout(children=(Combobox(value='', description='Select Country:', ensure_option=True, layout=Layout(g…"
      ]
     },
     "metadata": {},
     "output_type": "display_data"
    }
   ],
   "source": [
    "country_label_c2 = widgets.Combobox(\n",
    "    # value='John',\n",
    "    placeholder='Write a country name',\n",
    "    options=country_list,\n",
    "    description='Select Country:',\n",
    "    ensure_option=True,\n",
    "    disabled=False\n",
    ")\n",
    "\n",
    "# button_cui_c2 = widgets.Button(description=\"Add Country\")\n",
    "\n",
    "grid_c2 = GridspecLayout(1, 1, height='60px')\n",
    "grid_c2[0, 0] = country_label_c2 # label_cui1\n",
    "# grid_c2[0, 1] = button_cui_c2\n",
    "\n",
    "display(grid_c2)"
   ]
  },
  {
   "cell_type": "code",
   "execution_count": 10,
   "id": "21e0da1b",
   "metadata": {},
   "outputs": [],
   "source": [
    "def get_boxplot(df, ax1, country_idx):\n",
    "#     sns.boxplot(ax=ax1, x=\"cluster\", y=\"o\", data=df, hue=\"p\")  #, whis=[0, 100], width=.5, palette=\"vlag\", \n",
    "    sns.boxplot(ax=ax1, x=\"p\", y=\"o\", data=df, hue=\"cluster\")\n",
    "\n",
    "    # Add in points to show each observation\n",
    "#     sns.stripplot(ax=ax1, x=\"cluster\", y=\"o\", data=df, hue=\"p\") #, size=4, color=\".3\", linewidth=0\n",
    "    sns.stripplot(ax=ax1, x=\"p\", y=\"o\", data=df, hue=\"cluster\",  legend=False, dodge=True, size=4, palette='dark:.3')\n",
    "\n",
    "    # ax.set_xticklabels(df1.p.unique(), rotation=45)\n",
    "\n",
    "    # Tweak the visual presentation\n",
    "#     ax1.xaxis.grid(True)\n",
    "    ax1.set(ylabel=\"\")\n",
    "    ax1.set(xlabel=\"\")\n",
    "#     ax1.get_legend().set_visible(False)\n",
    "#     ax1.set_xlabel(df.p.unique()[0], fontsize=14)\n",
    "    ax1.tick_params(labelsize=18)\n",
    "#     ax1.set_title(df.p.unique()[0], fontsize=16)\n",
    "    sns.despine(left=True)\n",
    "    # for legend text\n",
    "    plt.setp(ax1.get_legend().get_texts(), fontsize='14')  \n",
    "    # for legend title\n",
    "    plt.setp(ax1.get_legend().get_title(), fontsize='16')\n",
    "\n",
    "    country_idx = -0.2 if country_idx == 0 else 0.2\n",
    "    ax1.annotate(grid_c2[0, 0].value,\n",
    "                xy=(country_idx, df.loc[df.s==dict_country[grid_c2[0, 0].value]].o.values[0]), xycoords='data',\n",
    "                xytext=(.4, .4), textcoords='axes fraction',\n",
    "                horizontalalignment=\"center\",\n",
    "                arrowprops=dict(arrowstyle=\"->\",\n",
    "                                connectionstyle=\"arc3\"),\n",
    "                bbox=dict(boxstyle=\"round\", fc=\"w\"), fontsize=14\n",
    "                )\n",
    "\n",
    "# def get_cluster(country, path_model_th_cls):\n",
    "#     entries = os.listdir(path_model_th_cls)\n",
    "#     for name in entries:\n",
    "#         cls = pd.read_csv(path_model_th_cls + name, delimiter=\"\\t\", header=None)\n",
    "#         cls.columns = ['s']\n",
    "#         if country in cls.s.to_list():\n",
    "#             return cls\n",
    "        \n",
    "def get_cluster(country, path_model_th_cls):\n",
    "    entries = os.listdir(path_model_th_cls)\n",
    "    country_cls = pd.DataFrame()\n",
    "    country_idx = 1\n",
    "    for idx, name in enumerate(entries):\n",
    "        cls = pd.read_csv(path_model_th_cls + name, delimiter=\"\\t\", header=None)\n",
    "        cls.columns = ['s']\n",
    "        cls['cluster'] = 'cluster ' + str(idx+1)\n",
    "        country_cls = pd.concat([country_cls, cls])\n",
    "        if country in cls.s.to_list():\n",
    "            country_idx = idx\n",
    "    return country_cls, country_idx"
   ]
  },
  {
   "cell_type": "markdown",
   "id": "3ad08a3a",
   "metadata": {},
   "source": [
    "# Analysis"
   ]
  },
  {
   "cell_type": "code",
   "execution_count": 11,
   "id": "2ad27ad5",
   "metadata": {},
   "outputs": [
    {
     "data": {
      "application/vnd.jupyter.widget-view+json": {
       "model_id": "7a79edf1d1ad4e15b65c28d7ea0e2682",
       "version_major": 2,
       "version_minor": 0
      },
      "text/plain": [
       "Button(description='Visualize', style=ButtonStyle())"
      ]
     },
     "metadata": {},
     "output_type": "display_data"
    },
    {
     "data": {
      "application/vnd.jupyter.widget-view+json": {
       "model_id": "a60e36474cdf4013b38363c0a5f2b65c",
       "version_major": 2,
       "version_minor": 0
      },
      "text/plain": [
       "Output()"
      ]
     },
     "metadata": {},
     "output_type": "display_data"
    }
   ],
   "source": [
    "button_plot = widgets.Button(description=\"Visualize\")\n",
    "output_3 = widgets.Output()\n",
    "def on_button_clicked(parm):\n",
    "    with output_3:\n",
    "        clear_output(wait=True)\n",
    "#         cls = get_cluster(dict_country[grid_c2[0, 0].value], path_model_th_cls_c2)\n",
    "        country_cls, country_idx = get_cluster(dict_country[grid_c2[0, 0].value], path_model_th_cls_c2)\n",
    "        df = pd.merge(indicator_val, country_cls, on='s')\n",
    "#         'Industry (including construction) value added (% of GDP)', 'GDP per capita (current LCU)', 'Gini index'\n",
    "        df = df.loc[df.p.isin(['Gross national expenditure (current US$)',\n",
    "                               'Industry (including construction) value added (% of GDP)', 'GDP (current US$)'])]\n",
    "        df = df.sort_values(by=['cluster'], ascending=True)\n",
    "        df1 = df.loc[df.p=='Gross national expenditure (current US$)']\n",
    "        df2 = df.loc[df.p=='Industry (including construction) value added (% of GDP)']\n",
    "        df3 = df.loc[df.p=='GDP (current US$)']\n",
    "        fig, (ax1, ax2, ax3) = plt.subplots(1, 3, figsize=(25, 6))\n",
    "        if df1.empty==False | df1.loc[df1.s==dict_country[grid_c2[0, 0].value]].empty==False:\n",
    "            get_boxplot(df1, ax1, country_idx)\n",
    "        if df2.empty==False | df2.loc[df2.s==dict_country[grid_c2[0, 0].value]].empty==False:\n",
    "            get_boxplot(df2, ax2, country_idx)\n",
    "        if df3.empty==False | df3.loc[df3.s==dict_country[grid_c2[0, 0].value]].empty==False:\n",
    "            get_boxplot(df3, ax3, country_idx)\n",
    "        display(fig)\n",
    "\n",
    "        \n",
    "display(button_plot, output_3)\n",
    "button_plot.on_click(on_button_clicked)"
   ]
  },
  {
   "cell_type": "code",
   "execution_count": null,
   "id": "6ee2cef7",
   "metadata": {},
   "outputs": [],
   "source": [
    "# <center><span style=\"font-family:times; font-size:2em;\">__Communities over CoyPU Knowledge Graph__</span>"
   ]
  },
  {
   "cell_type": "code",
   "execution_count": null,
   "id": "968aa9bd",
   "metadata": {},
   "outputs": [],
   "source": [
    "# <span style=\"font-family:times; font-size:2em;text-align: center;\">__Use case 1__: Given a country and a specific year, generate communities of similar countries and indicators.</span>"
   ]
  }
 ],
 "metadata": {
  "kernelspec": {
   "display_name": "Python 3 (ipykernel)",
   "language": "python",
   "name": "python3"
  },
  "language_info": {
   "codemirror_mode": {
    "name": "ipython",
    "version": 3
   },
   "file_extension": ".py",
   "mimetype": "text/x-python",
   "name": "python",
   "nbconvert_exporter": "python",
   "pygments_lexer": "ipython3",
   "version": "3.8.13"
  }
 },
 "nbformat": 4,
 "nbformat_minor": 5
}
